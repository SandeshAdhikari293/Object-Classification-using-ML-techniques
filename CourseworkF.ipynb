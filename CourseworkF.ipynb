{
  "nbformat": 4,
  "nbformat_minor": 0,
  "metadata": {
    "colab": {
      "provenance": [],
      "authorship_tag": "ABX9TyOkahkNn7LVcamFfMBIWEDG",
      "include_colab_link": true
    },
    "kernelspec": {
      "name": "python3",
      "display_name": "Python 3"
    },
    "language_info": {
      "name": "python"
    },
    "accelerator": "GPU",
    "gpuClass": "standard"
  },
  "cells": [
    {
      "cell_type": "markdown",
      "metadata": {
        "id": "view-in-github",
        "colab_type": "text"
      },
      "source": [
        "<a href=\"https://colab.research.google.com/github/SandeshAdhikari293/Object-Classification-using-ML-techniques/blob/main/CourseworkF.ipynb\" target=\"_parent\"><img src=\"https://colab.research.google.com/assets/colab-badge.svg\" alt=\"Open In Colab\"/></a>"
      ]
    },
    {
      "cell_type": "markdown",
      "source": [
        "Using HOG with SVM to classify images"
      ],
      "metadata": {
        "id": "YIzCu-VPnekX"
      }
    },
    {
      "cell_type": "markdown",
      "source": [
        "Start by importing the required libraries"
      ],
      "metadata": {
        "id": "RNKcL-Ranj41"
      }
    },
    {
      "cell_type": "code",
      "execution_count": null,
      "metadata": {
        "id": "vMDwXzpDmw4S"
      },
      "outputs": [],
      "source": [
        "import numpy as np\n",
        "import matplotlib.pyplot as plt\n",
        "import skimage.feature\n",
        "import tensorflow as tf\n",
        "from tensorflow.keras import datasets, layers, models\n",
        "import cv2\n",
        "from sklearn.svm import SVC\n",
        "from sklearn.metrics import accuracy_score\n",
        "from sklearn.metrics import confusion_matrix\n",
        "import seaborn as sns\n",
        "from sklearn.preprocessing import StandardScaler\n"
      ]
    },
    {
      "cell_type": "markdown",
      "source": [
        "Load the data & initalise the class names\n",
        "The class names are taken from the website, and map the label values (0 - 9) to a corresponding string value."
      ],
      "metadata": {
        "id": "STtVbj-snsLH"
      }
    },
    {
      "cell_type": "code",
      "source": [
        "(train_images, train_labels), (test_images, test_labels) = datasets.cifar10.load_data()\n",
        "\n",
        "class_names = ['airplane', 'automobile', 'bird', 'cat', 'deer',\n",
        "               'dog', 'frog', 'horse', 'ship', 'truck']"
      ],
      "metadata": {
        "id": "NLWQo7NLnpRv",
        "colab": {
          "base_uri": "https://localhost:8080/"
        },
        "outputId": "e9a99a84-7476-4ec2-e8b3-612dbf21907e"
      },
      "execution_count": null,
      "outputs": [
        {
          "output_type": "stream",
          "name": "stdout",
          "text": [
            "Downloading data from https://www.cs.toronto.edu/~kriz/cifar-10-python.tar.gz\n",
            "170498071/170498071 [==============================] - 8s 0us/step\n"
          ]
        }
      ]
    },
    {
      "cell_type": "markdown",
      "source": [
        "Create an array containing the hog features of each image for both training and testing data. This is done in an attempt to speed up computation, it may however have an adverse affect on accuracy."
      ],
      "metadata": {
        "id": "hVZpmcOTnxzW"
      }
    },
    {
      "cell_type": "code",
      "source": [
        "x_train = np.array([cv2.cvtColor(image, cv2.COLOR_BGR2GRAY) for image in train_images])\n",
        "x_test = np.array([cv2.cvtColor(image, cv2.COLOR_BGR2GRAY) for image in test_images])"
      ],
      "metadata": {
        "id": "356wsLUGPp70"
      },
      "execution_count": null,
      "outputs": []
    },
    {
      "cell_type": "markdown",
      "source": [
        "Display a comparison between the shape of the two datasets, one before grayscale and the other after."
      ],
      "metadata": {
        "id": "Wfuqj-yI_lgb"
      }
    },
    {
      "cell_type": "code",
      "source": [
        "print(train_images.shape)\n",
        "print(x_train.shape)"
      ],
      "metadata": {
        "colab": {
          "base_uri": "https://localhost:8080/"
        },
        "id": "qh-XpCDoXGT3",
        "outputId": "88937cf3-eadd-42e9-8aff-95a198592679"
      },
      "execution_count": null,
      "outputs": [
        {
          "output_type": "stream",
          "name": "stdout",
          "text": [
            "(50000, 32, 32, 3)\n",
            "(50000, 32, 32)\n"
          ]
        }
      ]
    },
    {
      "cell_type": "markdown",
      "source": [
        "Extract the HOG features from every image in the training dataset and store in a new array. Pixels per cell are set to (8, 8) as any lower results in excessive computation time."
      ],
      "metadata": {
        "id": "p8HNK-Mc_qtl"
      }
    },
    {
      "cell_type": "code",
      "source": [
        "train_hog = []\n",
        "\n",
        "for i in range(len(x_train)): # Iterate every training image\n",
        "  fd = skimage.feature.hog(x_train[i],  pixels_per_cell = (8,8),\n",
        "                     cells_per_block = (3,3) , visualize = False)\n",
        "  train_hog.append(fd)\n",
        "\n",
        "train_hog = np.array(train_hog)\n"
      ],
      "metadata": {
        "id": "eaT9YbFSoEwU"
      },
      "execution_count": null,
      "outputs": []
    },
    {
      "cell_type": "markdown",
      "source": [
        "Extract the HOG features from every image in the testing dataset and store in a new array."
      ],
      "metadata": {
        "id": "pnug7Q_-_x5H"
      }
    },
    {
      "cell_type": "code",
      "source": [
        "test_hog = []\n",
        "\n",
        "for i in range(len(x_test)): # Interate every test image\n",
        "  fd = skimage.feature.hog(x_test[i],  pixels_per_cell = (8,8),\n",
        "                     cells_per_block = (3,3) , visualize = False)\n",
        "  test_hog.append(fd)\n",
        "\n",
        "test_hog = np.array(test_hog)"
      ],
      "metadata": {
        "id": "qjwvzOrNXah8"
      },
      "execution_count": null,
      "outputs": []
    },
    {
      "cell_type": "markdown",
      "source": [
        "Display the new shape of the hog feature array"
      ],
      "metadata": {
        "id": "Vkh6jou4_ziQ"
      }
    },
    {
      "cell_type": "code",
      "source": [
        "print(train_hog.shape)"
      ],
      "metadata": {
        "colab": {
          "base_uri": "https://localhost:8080/"
        },
        "id": "d1cEtvhnopqQ",
        "outputId": "56cfd049-ad05-4f94-b0c0-4848420c54ea"
      },
      "execution_count": null,
      "outputs": [
        {
          "output_type": "stream",
          "name": "stdout",
          "text": [
            "(50000, 324)\n"
          ]
        }
      ]
    },
    {
      "cell_type": "markdown",
      "source": [
        "Create a standard scaler and transform the HOG features. This standardises the data by removing the mean and scaling to unit variance, improving the performance of the model.\n"
      ],
      "metadata": {
        "id": "4L_C_a5No3eo"
      }
    },
    {
      "cell_type": "code",
      "source": [
        "scaler = StandardScaler()\n",
        "scaler.fit(train_hog)\n",
        "train_data = scaler.transform(train_hog) # Scale the training and test data\n",
        "test_data = scaler.transform(test_hog)\n"
      ],
      "metadata": {
        "id": "KSjMGcv9XQty"
      },
      "execution_count": null,
      "outputs": []
    },
    {
      "cell_type": "markdown",
      "source": [
        "Create an SVM model using rbf and fit the training data to it, this is the most computationally expensive part of this solution."
      ],
      "metadata": {
        "id": "xOz-DPFT_9lz"
      }
    },
    {
      "cell_type": "code",
      "source": [
        "svc = SVC(kernel='rbf', C=1)\n",
        "svcfit =  svc.fit(train_data, train_labels.flatten()) # Fit the training data to the model"
      ],
      "metadata": {
        "id": "Huc7qDDAo2wd"
      },
      "execution_count": null,
      "outputs": []
    },
    {
      "cell_type": "markdown",
      "source": [
        "Create an array containing the predicted labels from the test data. This can be used to calculate the accuracy of the of model by comparing it to the true labels for the test data."
      ],
      "metadata": {
        "id": "RRz880h_ABN8"
      }
    },
    {
      "cell_type": "code",
      "source": [
        "predict = svcfit.predict(test_data)"
      ],
      "metadata": {
        "id": "_GwQb-1_pcRn"
      },
      "execution_count": null,
      "outputs": []
    },
    {
      "cell_type": "markdown",
      "source": [
        "Calculate the accuracy on test data."
      ],
      "metadata": {
        "id": "Okc89S1G8VJb"
      }
    },
    {
      "cell_type": "code",
      "source": [
        "accuracy = accuracy_score(predict, test_labels.flatten()) #Calculate accuracy\n",
        "print(accuracy)"
      ],
      "metadata": {
        "colab": {
          "base_uri": "https://localhost:8080/"
        },
        "id": "NlcABCA08RxL",
        "outputId": "71225041-6803-4fb0-c63d-392e5fd75885"
      },
      "execution_count": null,
      "outputs": [
        {
          "output_type": "stream",
          "name": "stdout",
          "text": [
            "0.6353\n"
          ]
        }
      ]
    },
    {
      "cell_type": "markdown",
      "source": [
        "The model finished with an accuracy of 63.5%"
      ],
      "metadata": {
        "id": "eVR7qyJ0OJAe"
      }
    },
    {
      "cell_type": "markdown",
      "source": [
        "Create a confusion matrix with a heatmap"
      ],
      "metadata": {
        "id": "hrttJg1_AH1E"
      }
    },
    {
      "cell_type": "code",
      "source": [
        "cm = confusion_matrix(test_labels.flatten(), predict) #Create confusion matrix\n",
        "\n",
        "plt.figure(figsize=(9,9))\n",
        "sns.heatmap(cm, cbar=False, xticklabels=class_names, yticklabels=class_names, fmt='d', annot=True, cmap=plt.cm.Oranges) # Define heatmap\n",
        "plt.title('Confusion Matrix')\n",
        "plt.xlabel('Predicted Label')\n",
        "plt.ylabel('Actual Label')\n",
        "plt.show()"
      ],
      "metadata": {
        "colab": {
          "base_uri": "https://localhost:8080/",
          "height": 567
        },
        "id": "PzQ87YmEiP4E",
        "outputId": "581c1ba5-2371-4a8e-ae5d-e80a050547c3"
      },
      "execution_count": null,
      "outputs": [
        {
          "output_type": "display_data",
          "data": {
            "text/plain": [
              "<Figure size 648x648 with 1 Axes>"
            ],
            "image/png": "[encoded data removed]"
          },
          "metadata": {
            "needs_background": "light"
          }
        }
      ]
    },
    {
      "cell_type": "markdown",
      "source": [
        "Second method: Convolutional Neural Network"
      ],
      "metadata": {
        "id": "Jqr0cgIvD2Wu"
      }
    },
    {
      "cell_type": "markdown",
      "source": [
        "Download the cifar10 dataset (Re-downloading data to ensure no pre-processing is carried over from the previous model)"
      ],
      "metadata": {
        "id": "55dsaz4C-nAp"
      }
    },
    {
      "cell_type": "code",
      "source": [
        "(train_images, train_labels), (test_images, test_labels) = datasets.cifar10.load_data()"
      ],
      "metadata": {
        "id": "KdjCqGd19zi4"
      },
      "execution_count": null,
      "outputs": []
    },
    {
      "cell_type": "markdown",
      "source": [
        "Convert the images to grayscale\n"
      ],
      "metadata": {
        "id": "MzQPJO76-rDO"
      }
    },
    {
      "cell_type": "code",
      "source": [
        "x_train = np.array([cv2.cvtColor(image, cv2.COLOR_BGR2GRAY) for image in train_images])\n",
        "x_test = np.array([cv2.cvtColor(image, cv2.COLOR_BGR2GRAY) for image in test_images])"
      ],
      "metadata": {
        "id": "q3-7GDB194Vz"
      },
      "execution_count": null,
      "outputs": []
    },
    {
      "cell_type": "markdown",
      "source": [
        "Verify the shape of the dataset, seeing that a dimension has been reduced."
      ],
      "metadata": {
        "id": "-MebmINy-uMQ"
      }
    },
    {
      "cell_type": "code",
      "source": [
        "print(x_test.shape)"
      ],
      "metadata": {
        "colab": {
          "base_uri": "https://localhost:8080/"
        },
        "id": "PjGIbZmW95AH",
        "outputId": "28a32f9d-0140-4dee-add6-d457a873c610"
      },
      "execution_count": null,
      "outputs": [
        {
          "output_type": "stream",
          "name": "stdout",
          "text": [
            "(10000, 32, 32)\n"
          ]
        }
      ]
    },
    {
      "cell_type": "markdown",
      "source": [
        "Normalise the dataset"
      ],
      "metadata": {
        "id": "QDwRaVMm-zWt"
      }
    },
    {
      "cell_type": "code",
      "source": [
        "x_train, x_test = x_train / 255.0, x_test / 255.0"
      ],
      "metadata": {
        "id": "hgbk7y0Z9_MI"
      },
      "execution_count": null,
      "outputs": []
    },
    {
      "cell_type": "markdown",
      "source": [
        "Create the convolutional neural network\n",
        "Takes a grayscale image as input, therefore the shape is (32, 32, 1)\n",
        "Follows the standard Convolutional Layer (to extract features) followed by Pooling Layer (to extract most promininet features and reduce dimensionality)\n",
        "The output layer contains 10 nodes, representing each of the possible classes. It uses the softmax activation function to output a percentage of the likelihood for each class the input could belong to. The highest percentage will be taken as the predicted label.\n",
        "The other layers use the ReLU activation function due to its faster convergence when compared to sigmoid.\n"
      ],
      "metadata": {
        "id": "xXOlgedF-1nM"
      }
    },
    {
      "cell_type": "code",
      "source": [
        "model = models.Sequential()\n",
        "model.add(layers.Conv2D(32, (3, 3), activation='relu', input_shape=(32, 32, 1)))\n",
        "model.add(layers.MaxPooling2D((2, 2)))\n",
        "model.add(layers.Conv2D(64, (3, 3), activation='relu'))\n",
        "model.add(layers.MaxPooling2D((2, 2)))\n",
        "model.add(layers.Conv2D(64, (3, 3), activation='relu'))\n",
        "model.add(layers.MaxPooling2D((2, 2)))\n",
        "\n",
        "model.add(layers.Flatten())\n",
        "model.add(layers.Dense(64, activation='relu'))\n",
        "model.add(layers.Dense(10, activation='softmax'))"
      ],
      "metadata": {
        "id": "Tzh9LpT4-CNh"
      },
      "execution_count": null,
      "outputs": []
    },
    {
      "cell_type": "markdown",
      "source": [
        "Display a summary of the architecture of the CNN"
      ],
      "metadata": {
        "id": "l6zRP13s-4ss"
      }
    },
    {
      "cell_type": "code",
      "source": [
        "model.summary()"
      ],
      "metadata": {
        "colab": {
          "base_uri": "https://localhost:8080/"
        },
        "id": "A3cGeDnz-GNi",
        "outputId": "98797827-efcd-45c8-93b2-ae5cb6441009"
      },
      "execution_count": null,
      "outputs": [
        {
          "output_type": "stream",
          "name": "stdout",
          "text": [
            "Model: \"sequential\"\n",
            "_________________________________________________________________\n",
            " Layer (type)                Output Shape              Param #   \n",
            "=================================================================\n",
            " conv2d (Conv2D)             (None, 30, 30, 32)        320       \n",
            "                                                                 \n",
            " max_pooling2d (MaxPooling2D  (None, 15, 15, 32)       0         \n",
            " )                                                               \n",
            "                                                                 \n",
            " conv2d_1 (Conv2D)           (None, 13, 13, 64)        18496     \n",
            "                                                                 \n",
            " max_pooling2d_1 (MaxPooling  (None, 6, 6, 64)         0         \n",
            " 2D)                                                             \n",
            "                                                                 \n",
            " conv2d_2 (Conv2D)           (None, 4, 4, 64)          36928     \n",
            "                                                                 \n",
            " max_pooling2d_2 (MaxPooling  (None, 2, 2, 64)         0         \n",
            " 2D)                                                             \n",
            "                                                                 \n",
            " flatten (Flatten)           (None, 256)               0         \n",
            "                                                                 \n",
            " dense (Dense)               (None, 64)                16448     \n",
            "                                                                 \n",
            " dense_1 (Dense)             (None, 10)                650       \n",
            "                                                                 \n",
            "=================================================================\n",
            "Total params: 72,842\n",
            "Trainable params: 72,842\n",
            "Non-trainable params: 0\n",
            "_________________________________________________________________\n"
          ]
        }
      ]
    },
    {
      "cell_type": "markdown",
      "source": [
        "Train the CNN model using 20 epochs, using accuracy as a metric, and sparse categorical crossentropy to calculate loss.\n",
        "The adam optimiser will also be used, due to its adaptive learning rate, individually adjusting parameters."
      ],
      "metadata": {
        "id": "12BZktdD-6v4"
      }
    },
    {
      "cell_type": "code",
      "source": [
        "model.compile(optimizer='adam',\n",
        "              loss=tf.keras.losses.SparseCategoricalCrossentropy(from_logits=False),\n",
        "              metrics=['accuracy'])\n",
        "\n",
        "history = model.fit(x_train, train_labels, epochs=20,\n",
        "                    validation_data=(x_test, test_labels))"
      ],
      "metadata": {
        "colab": {
          "base_uri": "https://localhost:8080/"
        },
        "id": "qb-Z-Fy7-IkV",
        "outputId": "89c2c55d-a9ee-469c-b2ec-88ea82a7caa4"
      },
      "execution_count": null,
      "outputs": [
        {
          "output_type": "stream",
          "name": "stdout",
          "text": [
            "Epoch 1/20\n",
            "1563/1563 [==============================] - 8s 5ms/step - loss: 1.6573 - accuracy: 0.4024 - val_loss: 1.4726 - val_accuracy: 0.4839\n",
            "Epoch 2/20\n",
            "1563/1563 [==============================] - 7s 5ms/step - loss: 1.3515 - accuracy: 0.5238 - val_loss: 1.2862 - val_accuracy: 0.5447\n",
            "Epoch 3/20\n",
            "1563/1563 [==============================] - 7s 5ms/step - loss: 1.2071 - accuracy: 0.5768 - val_loss: 1.1977 - val_accuracy: 0.5818\n",
            "Epoch 4/20\n",
            "1563/1563 [==============================] - 8s 5ms/step - loss: 1.1138 - accuracy: 0.6110 - val_loss: 1.1700 - val_accuracy: 0.5914\n",
            "Epoch 5/20\n",
            "1563/1563 [==============================] - 7s 5ms/step - loss: 1.0455 - accuracy: 0.6348 - val_loss: 1.0806 - val_accuracy: 0.6270\n",
            "Epoch 6/20\n",
            "1563/1563 [==============================] - 8s 5ms/step - loss: 0.9850 - accuracy: 0.6553 - val_loss: 1.0392 - val_accuracy: 0.6414\n",
            "Epoch 7/20\n",
            "1563/1563 [==============================] - 7s 5ms/step - loss: 0.9374 - accuracy: 0.6734 - val_loss: 1.0127 - val_accuracy: 0.6520\n",
            "Epoch 8/20\n",
            "1563/1563 [==============================] - 8s 5ms/step - loss: 0.9011 - accuracy: 0.6859 - val_loss: 1.0217 - val_accuracy: 0.6540\n",
            "Epoch 9/20\n",
            "1563/1563 [==============================] - 8s 5ms/step - loss: 0.8697 - accuracy: 0.6967 - val_loss: 1.0467 - val_accuracy: 0.6379\n",
            "Epoch 10/20\n",
            "1563/1563 [==============================] - 8s 5ms/step - loss: 0.8459 - accuracy: 0.7035 - val_loss: 0.9872 - val_accuracy: 0.6622\n",
            "Epoch 11/20\n",
            "1563/1563 [==============================] - 8s 5ms/step - loss: 0.8143 - accuracy: 0.7161 - val_loss: 0.9744 - val_accuracy: 0.6697\n",
            "Epoch 12/20\n",
            "1563/1563 [==============================] - 8s 5ms/step - loss: 0.7897 - accuracy: 0.7253 - val_loss: 0.9959 - val_accuracy: 0.6665\n",
            "Epoch 13/20\n",
            "1563/1563 [==============================] - 8s 5ms/step - loss: 0.7675 - accuracy: 0.7336 - val_loss: 0.9728 - val_accuracy: 0.6722\n",
            "Epoch 14/20\n",
            "1563/1563 [==============================] - 8s 5ms/step - loss: 0.7465 - accuracy: 0.7397 - val_loss: 0.9585 - val_accuracy: 0.6711\n",
            "Epoch 15/20\n",
            "1563/1563 [==============================] - 8s 5ms/step - loss: 0.7304 - accuracy: 0.7458 - val_loss: 0.9627 - val_accuracy: 0.6738\n",
            "Epoch 16/20\n",
            "1563/1563 [==============================] - 7s 5ms/step - loss: 0.7112 - accuracy: 0.7540 - val_loss: 0.9585 - val_accuracy: 0.6760\n",
            "Epoch 17/20\n",
            "1563/1563 [==============================] - 8s 5ms/step - loss: 0.6914 - accuracy: 0.7601 - val_loss: 0.9715 - val_accuracy: 0.6724\n",
            "Epoch 18/20\n",
            "1563/1563 [==============================] - 8s 5ms/step - loss: 0.6771 - accuracy: 0.7649 - val_loss: 0.9948 - val_accuracy: 0.6669\n",
            "Epoch 19/20\n",
            "1563/1563 [==============================] - 9s 6ms/step - loss: 0.6625 - accuracy: 0.7689 - val_loss: 0.9634 - val_accuracy: 0.6802\n",
            "Epoch 20/20\n",
            "1563/1563 [==============================] - 8s 5ms/step - loss: 0.6508 - accuracy: 0.7720 - val_loss: 0.9624 - val_accuracy: 0.6815\n"
          ]
        }
      ]
    },
    {
      "cell_type": "markdown",
      "source": [
        "Display a graph of the accuracy against epoch"
      ],
      "metadata": {
        "id": "Awr4MxLB-85E"
      }
    },
    {
      "cell_type": "code",
      "source": [
        "plt.plot(history.history['accuracy'], label='training accuracy')\n",
        "plt.plot(history.history['val_accuracy'], label = 'validation accuracy')\n",
        "plt.xlabel('Epoch')\n",
        "plt.ylabel('Accuracy')\n",
        "plt.title(\"Accuracy against Epoch\")\n",
        "plt.legend(loc='lower right')\n",
        "plt.show()"
      ],
      "metadata": {
        "colab": {
          "base_uri": "https://localhost:8080/",
          "height": 295
        },
        "id": "ToFbnFhx-OOf",
        "outputId": "4f3b2a98-ab23-45ed-efeb-bee560971f2d"
      },
      "execution_count": null,
      "outputs": [
        {
          "output_type": "display_data",
          "data": {
            "text/plain": [
              "<Figure size 432x288 with 1 Axes>"
            ],
            "image/png": "[encoded data removed]"
          },
          "metadata": {
            "needs_background": "light"
          }
        }
      ]
    },
    {
      "cell_type": "markdown",
      "source": [
        "Plot the loss against epoch"
      ],
      "metadata": {
        "id": "pOlx7j0a-_cZ"
      }
    },
    {
      "cell_type": "code",
      "source": [
        "plt.plot(history.history['loss'], label='training loss')\n",
        "plt.plot(history.history['val_loss'], label = 'validation loss')\n",
        "plt.xlabel('Epoch')\n",
        "plt.ylabel('Loss')\n",
        "plt.title(\"Loss against Epoch\")\n",
        "plt.legend(loc='lower right')\n",
        "plt.show()"
      ],
      "metadata": {
        "colab": {
          "base_uri": "https://localhost:8080/",
          "height": 295
        },
        "id": "r4SeEZew-PW8",
        "outputId": "9b86b447-7bcc-468e-cf4f-3063d0d766d4"
      },
      "execution_count": null,
      "outputs": [
        {
          "output_type": "display_data",
          "data": {
            "text/plain": [
              "<Figure size 432x288 with 1 Axes>"
            ],
            "image/png": "[encoded data removed]"
          },
          "metadata": {
            "needs_background": "light"
          }
        }
      ]
    },
    {
      "cell_type": "markdown",
      "source": [
        "Calculate the loss and accuracy of the model using the test data set"
      ],
      "metadata": {
        "id": "RQ93qtFD_BwU"
      }
    },
    {
      "cell_type": "code",
      "source": [
        "test_loss, test_acc = model.evaluate(x_test,  test_labels)"
      ],
      "metadata": {
        "colab": {
          "base_uri": "https://localhost:8080/"
        },
        "id": "90ZtLuQg-WjU",
        "outputId": "2fb8dfa3-26da-413d-ca3c-2260a62373e8"
      },
      "execution_count": null,
      "outputs": [
        {
          "output_type": "stream",
          "name": "stdout",
          "text": [
            "313/313 [==============================] - 2s 6ms/step - loss: 0.9899 - accuracy: 0.6868\n"
          ]
        }
      ]
    },
    {
      "cell_type": "markdown",
      "source": [
        "The model recieved an accuracy of 68.7% after running for 20 epochs."
      ],
      "metadata": {
        "id": "BH87mAYYQIRf"
      }
    },
    {
      "cell_type": "markdown",
      "source": [
        "Use the model to predict labels for the test data. Since the predictions provide an array of all classes and their corresponding percentages (Since we are using softmax activation for the final layer) we must find the label with the highest value.\n",
        "\n",
        "The confusion matrix is then produced, and a heat map applied to it to enhance its visuals appearance.\n",
        "\n"
      ],
      "metadata": {
        "id": "93ZvlqIb_EYD"
      }
    },
    {
      "cell_type": "code",
      "source": [
        "predictions = model.predict(x_test)\n",
        "y_pred = predictions.argmax(axis=1)\n",
        "\n",
        "cm = confusion_matrix(test_labels, y_pred)\n",
        "\n",
        "plt.figure(figsize=(9,9))\n",
        "sns.heatmap(cm, cbar=False, xticklabels=class_names, yticklabels=class_names, fmt='d', annot=True, cmap=plt.cm.Oranges)\n",
        "plt.title('Confusion Matrix')\n",
        "plt.xlabel('Predicted Label')\n",
        "plt.ylabel('Actual Label')\n",
        "plt.show()"
      ],
      "metadata": {
        "colab": {
          "base_uri": "https://localhost:8080/",
          "height": 584
        },
        "id": "-Q5Xyy2t-ZDH",
        "outputId": "60ada693-dd00-4c22-b723-b1dae1db59cf"
      },
      "execution_count": null,
      "outputs": [
        {
          "output_type": "stream",
          "name": "stdout",
          "text": [
            "313/313 [==============================] - 2s 5ms/step\n"
          ]
        },
        {
          "output_type": "display_data",
          "data": {
            "text/plain": [
              "<Figure size 648x648 with 1 Axes>"
            ],
            "image/png": "[encoded data removed]"
          },
          "metadata": {
            "needs_background": "light"
          }
        }
      ]
    },
    {
      "cell_type": "markdown",
      "source": [
        "As a visual representation of the final layer and output of the cnn, we can view the softmax predictions for each class based on index."
      ],
      "metadata": {
        "id": "VZspq37-_HFi"
      }
    },
    {
      "cell_type": "code",
      "source": [
        "index = 32 # Change to any value between 0-10000 to view the CNN's prediction\n",
        "sum = 0 # Check sum\n",
        "for x in range(10): # 10 nodes of output, representing the 10 classes\n",
        "  print(class_names[x],\" | \",predictions[index][x])\n",
        "  sum = sum + predictions[index][x]\n",
        "print(\"Predicted label:\",class_names[y_pred[index]])\n",
        "print(\"Actual label:\",class_names[test_labels[index][0]])\n",
        "print(\"%:\",sum)"
      ],
      "metadata": {
        "colab": {
          "base_uri": "https://localhost:8080/"
        },
        "id": "ZkP2aNLt-c8g",
        "outputId": "7100066a-2659-4498-f63d-c222987f1461"
      },
      "execution_count": null,
      "outputs": [
        {
          "output_type": "stream",
          "name": "stdout",
          "text": [
            "airplane  |  0.0031455369\n",
            "automobile  |  4.4390535e-07\n",
            "bird  |  0.0053078863\n",
            "cat  |  0.015079158\n",
            "deer  |  0.97159183\n",
            "dog  |  0.0016009843\n",
            "frog  |  0.0003069726\n",
            "horse  |  0.00026310698\n",
            "ship  |  0.0026959975\n",
            "truck  |  8.159893e-06\n",
            "Predicted label: deer\n",
            "Actual label: deer\n",
            "%: 1.0000000768705775\n"
          ]
        }
      ]
    }
  ]
}